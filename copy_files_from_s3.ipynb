{
 "cells": [
  {
   "cell_type": "code",
   "execution_count": null,
   "outputs": [],
   "source": [
    "import numpy as np\n",
    "import pandas as pd\n",
    "import os\n",
    "from sklearn.metrics import confusion_matrix\n",
    "import seaborn as sn; sn.set(font_scale=1.4)\n",
    "from sklearn.model_selection import train_test_split\n",
    "from sklearn.utils import shuffle\n",
    "import matplotlib.pyplot as plt\n",
    "import cv2\n",
    "import tensorflow as tf\n",
    "from tqdm import tqdm"
   ],
   "metadata": {
    "collapsed": false,
    "pycharm": {
     "name": "#%%\n"
    }
   }
  },
  {
   "cell_type": "code",
   "execution_count": null,
   "outputs": [],
   "source": [
    "# Copy Images from S3 to sagemaker\n",
    "\n",
    "import boto3\n",
    "from botocore.exceptions import ClientError # Not necessary\n",
    "\n",
    "# Remember to enter the cirrect bucket region below\n",
    "s3 = boto3.resource('s3', region_name='ap-southeast-2')\n",
    "# Replace the place holder with your correct bucket name\n",
    "bucket = s3.Bucket('cez-nz-ai-anz-bucket-name')\n",
    "for my_bucket_object in bucket.objects.all():\n",
    "    key = my_bucket_object.key\n",
    "    #print(key)\n",
    "    if not os.path.exists(os.path.dirname(key)):\n",
    "        os.makedirs(os.path.dirname(key))\n",
    "\n",
    "# The following is basically for exception handling and not necessary to include\n",
    "    try:\n",
    "        bucket.download_file(key, key)\n",
    "    except ClientError as e:\n",
    "        if e.response['Error']['Code'] == \"404\":\n",
    "            print(\"No object with this key.\")\n",
    "        else:\n",
    "            raise\n"
   ],
   "metadata": {
    "collapsed": false,
    "pycharm": {
     "name": "#%%\n"
    }
   }
  }
 ],
 "metadata": {
  "kernelspec": {
   "display_name": "Python 3",
   "language": "python",
   "name": "python3"
  },
  "language_info": {
   "codemirror_mode": {
    "name": "ipython",
    "version": 2
   },
   "file_extension": ".py",
   "mimetype": "text/x-python",
   "name": "python",
   "nbconvert_exporter": "python",
   "pygments_lexer": "ipython2",
   "version": "2.7.6"
  }
 },
 "nbformat": 4,
 "nbformat_minor": 0
}