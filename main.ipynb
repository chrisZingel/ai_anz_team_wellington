{
 "cells": [
  {
   "cell_type": "code",
   "execution_count": null,
   "outputs": [],
   "source": [
    "import numpy as np\n",
    "import pandas as pd\n",
    "import os\n",
    "from sklearn.metrics import confusion_matrix\n",
    "import seaborn as sn; sn.set(font_scale=1.4)\n",
    "from sklearn.model_selection import train_test_split\n",
    "from sklearn.utils import shuffle\n",
    "import matplotlib.pyplot as plt\n",
    "import cv2\n",
    "import tensorflow as tf\n",
    "from tqdm import tqdm\n",
    "\n",
    "#Constants\n",
    "IMAGE_SIZE = (150, 150)"
   ],
   "metadata": {
    "collapsed": false,
    "pycharm": {
     "name": "#%%\n"
    }
   }
  },
  {
   "cell_type": "code",
   "execution_count": null,
   "outputs": [],
   "source": [
    "# Resize images\n",
    "images = []\n",
    "files_names = []\n",
    "orig_images=[]\n",
    "output = []\n",
    "\n",
    "for file in tqdm(os.listdir(\"images\")):\n",
    "    #print(file)\n",
    "    # Get the path name of the image\n",
    "    img_path = os.path.join(\"images\", file)\n",
    "\n",
    "    # Open and resize the img\n",
    "    image = cv2.imread(img_path)\n",
    "\n",
    "    orig_images.append(image) # the original file\n",
    "    image = cv2.cvtColor(image, cv2.COLOR_BGR2RGB)\n",
    "    image = cv2.resize(image, IMAGE_SIZE)\n",
    "    images.append(image)\n",
    "    files_names.append(file)\n",
    "\n",
    "labels = np.array(files_names)"
   ],
   "metadata": {
    "collapsed": false,
    "pycharm": {
     "name": "#%%\n"
    }
   }
  },
  {
   "cell_type": "code",
   "execution_count": null,
   "outputs": [],
   "source": [
    "df_assets=pd.DataFrame({\"Filename\":files_names, \"images\": images})\n",
    "df_assets"
   ],
   "metadata": {
    "collapsed": false,
    "pycharm": {
     "name": "#%%\n"
    }
   }
  },
  {
   "cell_type": "code",
   "execution_count": null,
   "outputs": [],
   "source": [
    "# Add category data\n",
    "# Import CSV file\n",
    "df_label = pd.read_csv(\"labels.csv\")\n",
    "df_assets= df_assets.merge(df_label, how='left', left_on=\"Filename\", right_on=\"Filename\")\n",
    "df_assets"
   ],
   "metadata": {
    "collapsed": false,
    "pycharm": {
     "name": "#%%\n"
    }
   }
  },
  {
   "cell_type": "code",
   "execution_count": null,
   "outputs": [],
   "source": [
    "# Quick breakdown of the categories of images\n",
    "df_assets.groupby([\"Species\",\"Label\"]).size()"
   ],
   "metadata": {
    "collapsed": false,
    "pycharm": {
     "name": "#%%\n"
    }
   }
  },
  {
   "cell_type": "code",
   "execution_count": null,
   "outputs": [],
   "source": [
    "#Split the dataframe into two random samples (80% and 20%) for training and testing\n",
    "train, test = train_test_split(df_assets, test_size=0.2)\n",
    "train.shape"
   ],
   "metadata": {
    "collapsed": false,
    "pycharm": {
     "name": "#%%\n"
    }
   }
  },
  {
   "cell_type": "markdown",
   "source": [
    "## Steps are:\n",
    "\n",
    "# Build the model,\n",
    "1. Compile the model,\n",
    "2. Train / fit the data to the model,\n",
    "3. Evaluate the model on the testing set,"
   ],
   "metadata": {
    "collapsed": false,
    "pycharm": {
     "name": "#%% md\n"
    }
   }
  },
  {
   "cell_type": "code",
   "execution_count": null,
   "outputs": [],
   "source": [
    "\n",
    "import os\n",
    "os.environ['CUDA_VISIBLE_DEVICES'] = \"0\"\n",
    "\n",
    "import tensorflow as tf\n",
    "model = tf.keras.Sequential([\n",
    "    tf.keras.layers.Conv2D(32, (3, 3),data_format=\"channels_last\", activation = 'relu', input_shape = (150, 150, 3)),\n",
    "    tf.keras.layers.MaxPooling2D(2,2,data_format=\"channels_last\"),\n",
    "    tf.keras.layers.Conv2D(32, (3, 3),data_format=\"channels_last\", activation = 'relu'),\n",
    "    tf.keras.layers.MaxPooling2D(2,2,data_format=\"channels_last\"),\n",
    "    tf.keras.layers.Flatten(),\n",
    "    tf.keras.layers.Dense(128, activation=tf.nn.relu),\n",
    "    tf.keras.layers.Dense(9, activation=tf.nn.softmax)\n",
    "])"
   ],
   "metadata": {
    "collapsed": false,
    "pycharm": {
     "name": "#%%\n"
    }
   }
  },
  {
   "cell_type": "code",
   "execution_count": null,
   "outputs": [],
   "source": [
    "model.compile(optimizer = 'adam', loss = 'sparse_categorical_crossentropy', metrics=['accuracy'])"
   ],
   "metadata": {
    "collapsed": false,
    "pycharm": {
     "name": "#%%\n"
    }
   }
  },
  {
   "cell_type": "code",
   "execution_count": null,
   "outputs": [],
   "source": [
    "images=np.array(list(train.loc[:,\"images\"]), dtype = 'float32')\n",
    "labels = np.array(list(train.loc[:,\"Label\"]), dtype = 'int32')\n",
    "\n",
    "model_fit = model.fit(images,labels , batch_size=128, epochs=20, validation_split = 0.2)"
   ],
   "metadata": {
    "collapsed": false,
    "pycharm": {
     "name": "#%%\n"
    }
   }
  },
  {
   "cell_type": "code",
   "execution_count": null,
   "outputs": [],
   "source": [
    "def plot_accuracy_loss(history):\n",
    "    \"\"\"\n",
    "        Plot the accuracy and the loss during the training of the nn.\n",
    "    \"\"\"\n",
    "    fig = plt.figure(figsize=(10,5))\n",
    "\n",
    "    # Plot accuracy\n",
    "    plt.subplot(221)\n",
    "    plt.plot(history.history['accuracy'],'bo--', label = \"acc\")\n",
    "    plt.plot(history.history['val_accuracy'], 'ro--', label = \"val_acc\")\n",
    "    plt.title(\"train_acc vs val_acc\")\n",
    "    plt.ylabel(\"accuracy\")\n",
    "    plt.xlabel(\"epochs\")\n",
    "    plt.legend()\n",
    "\n",
    "    # Plot loss function\n",
    "    plt.subplot(222)\n",
    "    plt.plot(history.history['loss'],'bo--', label = \"loss\")\n",
    "    plt.plot(history.history['val_loss'], 'ro--', label = \"val_loss\")\n",
    "    plt.title(\"train_loss vs val_loss\")\n",
    "    plt.ylabel(\"loss\")\n",
    "    plt.xlabel(\"epochs\")\n",
    "\n",
    "    plt.legend()\n",
    "    plt.show()\n",
    "plot_accuracy_loss(model_fit)"
   ],
   "metadata": {
    "collapsed": false,
    "pycharm": {
     "name": "#%%\n"
    }
   }
  },
  {
   "cell_type": "markdown",
   "source": [
    "# Steps to do:\n",
    "1. Run the model against the test data (continue with https://www.kaggle.com/code/vincee/intel-image-classification-cnn-keras/notebook)\n",
    "2. Confuision Matrix (measure of fit) (see https://www.w3schools.com/python/python_ml_confusion_matrix.asp)\n",
    "3. Display results"
   ],
   "metadata": {
    "collapsed": false,
    "pycharm": {
     "name": "#%% md\n"
    }
   }
  }
 ],
 "metadata": {
  "kernelspec": {
   "display_name": "Python 3",
   "language": "python",
   "name": "python3"
  },
  "language_info": {
   "codemirror_mode": {
    "name": "ipython",
    "version": 2
   },
   "file_extension": ".py",
   "mimetype": "text/x-python",
   "name": "python",
   "nbconvert_exporter": "python",
   "pygments_lexer": "ipython2",
   "version": "2.7.6"
  }
 },
 "nbformat": 4,
 "nbformat_minor": 0
}