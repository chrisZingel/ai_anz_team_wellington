{
 "cells": [
  {
   "cell_type": "code",
   "execution_count": 1,
   "metadata": {
    "collapsed": false,
    "jupyter": {
     "outputs_hidden": false
    },
    "pycharm": {
     "name": "#%%\n"
    }
   },
   "outputs": [],
   "source": [
    "import numpy as np\n",
    "import pandas as pd\n",
    "import os\n",
    "from sklearn.metrics import confusion_matrix\n",
    "import seaborn as sn; sn.set(font_scale=1.4)\n",
    "from sklearn.model_selection import train_test_split\n",
    "from sklearn.utils import shuffle\n",
    "import matplotlib.pyplot as plt\n",
    "import cv2\n",
    "import tensorflow as tf\n",
    "from tqdm import tqdm\n",
    "\n",
    "#Constants\n",
    "IMAGE_SIZE = (150, 150)"
   ]
  },
  {
   "cell_type": "code",
   "execution_count": 2,
   "metadata": {
    "collapsed": false,
    "jupyter": {
     "outputs_hidden": false
    },
    "pycharm": {
     "name": "#%%\n"
    }
   },
   "outputs": [
    {
     "name": "stderr",
     "output_type": "stream",
     "text": [
      "100%|██████████| 799/799 [00:02<00:00, 354.63it/s]\n"
     ]
    }
   ],
   "source": [
    "# Resize images\n",
    "images = []\n",
    "files_names = []\n",
    "orig_images=[]\n",
    "output = []\n",
    "\n",
    "for file in tqdm(os.listdir(\"images\")[1:800]):\n",
    "    #print(file)\n",
    "    # Get the path name of the image\n",
    "    img_path = os.path.join(\"images\", file)\n",
    "\n",
    "    # Open and resize the img\n",
    "    image = cv2.imread(img_path)\n",
    "\n",
    "    orig_images.append(image) # the original file\n",
    "    image = cv2.cvtColor(image, cv2.COLOR_BGR2RGB)\n",
    "    image = cv2.resize(image, IMAGE_SIZE)\n",
    "    images.append(image)\n",
    "    files_names.append(file)\n",
    "\n",
    "labels = np.array(files_names)"
   ]
  },
  {
   "cell_type": "code",
   "execution_count": 3,
   "metadata": {
    "collapsed": false,
    "jupyter": {
     "outputs_hidden": false
    },
    "pycharm": {
     "name": "#%%\n"
    }
   },
   "outputs": [
    {
     "data": {
      "text/html": [
       "<div>\n",
       "<style scoped>\n",
       "    .dataframe tbody tr th:only-of-type {\n",
       "        vertical-align: middle;\n",
       "    }\n",
       "\n",
       "    .dataframe tbody tr th {\n",
       "        vertical-align: top;\n",
       "    }\n",
       "\n",
       "    .dataframe thead th {\n",
       "        text-align: right;\n",
       "    }\n",
       "</style>\n",
       "<table border=\"1\" class=\"dataframe\">\n",
       "  <thead>\n",
       "    <tr style=\"text-align: right;\">\n",
       "      <th></th>\n",
       "      <th>Filename</th>\n",
       "      <th>images</th>\n",
       "    </tr>\n",
       "  </thead>\n",
       "  <tbody>\n",
       "    <tr>\n",
       "      <th>0</th>\n",
       "      <td>20170210-130942-0.jpg</td>\n",
       "      <td>[[[108, 92, 102], [148, 133, 146], [69, 56, 72...</td>\n",
       "    </tr>\n",
       "    <tr>\n",
       "      <th>1</th>\n",
       "      <td>20170217-103031-0.jpg</td>\n",
       "      <td>[[[23, 19, 18], [28, 27, 25], [48, 48, 46], [4...</td>\n",
       "    </tr>\n",
       "    <tr>\n",
       "      <th>2</th>\n",
       "      <td>20170210-132021-0.jpg</td>\n",
       "      <td>[[[103, 97, 132], [185, 170, 206], [123, 97, 1...</td>\n",
       "    </tr>\n",
       "    <tr>\n",
       "      <th>3</th>\n",
       "      <td>20170130-102032-0.jpg</td>\n",
       "      <td>[[[43, 71, 42], [59, 80, 64], [49, 62, 58], [4...</td>\n",
       "    </tr>\n",
       "    <tr>\n",
       "      <th>4</th>\n",
       "      <td>20170704-154648-0.jpg</td>\n",
       "      <td>[[[111, 111, 134], [103, 104, 123], [103, 106,...</td>\n",
       "    </tr>\n",
       "    <tr>\n",
       "      <th>...</th>\n",
       "      <td>...</td>\n",
       "      <td>...</td>\n",
       "    </tr>\n",
       "    <tr>\n",
       "      <th>794</th>\n",
       "      <td>20170405-160310-0.jpg</td>\n",
       "      <td>[[[124, 112, 121], [34, 23, 31], [20, 15, 21],...</td>\n",
       "    </tr>\n",
       "    <tr>\n",
       "      <th>795</th>\n",
       "      <td>20170126-095436-0.jpg</td>\n",
       "      <td>[[[100, 101, 106], [184, 189, 190], [74, 89, 8...</td>\n",
       "    </tr>\n",
       "    <tr>\n",
       "      <th>796</th>\n",
       "      <td>20170304-131712-0.jpg</td>\n",
       "      <td>[[[150, 144, 156], [52, 44, 56], [220, 214, 22...</td>\n",
       "    </tr>\n",
       "    <tr>\n",
       "      <th>797</th>\n",
       "      <td>20170210-131153-0.jpg</td>\n",
       "      <td>[[[164, 159, 157], [134, 129, 132], [93, 90, 1...</td>\n",
       "    </tr>\n",
       "    <tr>\n",
       "      <th>798</th>\n",
       "      <td>20170315-090434-0.jpg</td>\n",
       "      <td>[[[78, 57, 74], [97, 76, 93], [188, 174, 187],...</td>\n",
       "    </tr>\n",
       "  </tbody>\n",
       "</table>\n",
       "<p>799 rows × 2 columns</p>\n",
       "</div>"
      ],
      "text/plain": [
       "                  Filename                                             images\n",
       "0    20170210-130942-0.jpg  [[[108, 92, 102], [148, 133, 146], [69, 56, 72...\n",
       "1    20170217-103031-0.jpg  [[[23, 19, 18], [28, 27, 25], [48, 48, 46], [4...\n",
       "2    20170210-132021-0.jpg  [[[103, 97, 132], [185, 170, 206], [123, 97, 1...\n",
       "3    20170130-102032-0.jpg  [[[43, 71, 42], [59, 80, 64], [49, 62, 58], [4...\n",
       "4    20170704-154648-0.jpg  [[[111, 111, 134], [103, 104, 123], [103, 106,...\n",
       "..                     ...                                                ...\n",
       "794  20170405-160310-0.jpg  [[[124, 112, 121], [34, 23, 31], [20, 15, 21],...\n",
       "795  20170126-095436-0.jpg  [[[100, 101, 106], [184, 189, 190], [74, 89, 8...\n",
       "796  20170304-131712-0.jpg  [[[150, 144, 156], [52, 44, 56], [220, 214, 22...\n",
       "797  20170210-131153-0.jpg  [[[164, 159, 157], [134, 129, 132], [93, 90, 1...\n",
       "798  20170315-090434-0.jpg  [[[78, 57, 74], [97, 76, 93], [188, 174, 187],...\n",
       "\n",
       "[799 rows x 2 columns]"
      ]
     },
     "execution_count": 3,
     "metadata": {},
     "output_type": "execute_result"
    }
   ],
   "source": [
    "df_assets=pd.DataFrame({\"Filename\":files_names, \"images\": images})\n",
    "df_assets"
   ]
  },
  {
   "cell_type": "code",
   "execution_count": 4,
   "metadata": {
    "collapsed": false,
    "jupyter": {
     "outputs_hidden": false
    },
    "pycharm": {
     "name": "#%%\n"
    }
   },
   "outputs": [
    {
     "data": {
      "text/html": [
       "<div>\n",
       "<style scoped>\n",
       "    .dataframe tbody tr th:only-of-type {\n",
       "        vertical-align: middle;\n",
       "    }\n",
       "\n",
       "    .dataframe tbody tr th {\n",
       "        vertical-align: top;\n",
       "    }\n",
       "\n",
       "    .dataframe thead th {\n",
       "        text-align: right;\n",
       "    }\n",
       "</style>\n",
       "<table border=\"1\" class=\"dataframe\">\n",
       "  <thead>\n",
       "    <tr style=\"text-align: right;\">\n",
       "      <th></th>\n",
       "      <th>Filename</th>\n",
       "      <th>images</th>\n",
       "      <th>Label</th>\n",
       "      <th>Species</th>\n",
       "    </tr>\n",
       "  </thead>\n",
       "  <tbody>\n",
       "    <tr>\n",
       "      <th>0</th>\n",
       "      <td>20170210-130942-0.jpg</td>\n",
       "      <td>[[[108, 92, 102], [148, 133, 146], [69, 56, 72...</td>\n",
       "      <td>7</td>\n",
       "      <td>Snake weed</td>\n",
       "    </tr>\n",
       "    <tr>\n",
       "      <th>1</th>\n",
       "      <td>20170217-103031-0.jpg</td>\n",
       "      <td>[[[23, 19, 18], [28, 27, 25], [48, 48, 46], [4...</td>\n",
       "      <td>0</td>\n",
       "      <td>Chinee apple</td>\n",
       "    </tr>\n",
       "    <tr>\n",
       "      <th>2</th>\n",
       "      <td>20170210-132021-0.jpg</td>\n",
       "      <td>[[[103, 97, 132], [185, 170, 206], [123, 97, 1...</td>\n",
       "      <td>7</td>\n",
       "      <td>Snake weed</td>\n",
       "    </tr>\n",
       "    <tr>\n",
       "      <th>3</th>\n",
       "      <td>20170130-102032-0.jpg</td>\n",
       "      <td>[[[43, 71, 42], [59, 80, 64], [49, 62, 58], [4...</td>\n",
       "      <td>1</td>\n",
       "      <td>Lantana</td>\n",
       "    </tr>\n",
       "    <tr>\n",
       "      <th>4</th>\n",
       "      <td>20170704-154648-0.jpg</td>\n",
       "      <td>[[[111, 111, 134], [103, 104, 123], [103, 106,...</td>\n",
       "      <td>7</td>\n",
       "      <td>Snake weed</td>\n",
       "    </tr>\n",
       "    <tr>\n",
       "      <th>...</th>\n",
       "      <td>...</td>\n",
       "      <td>...</td>\n",
       "      <td>...</td>\n",
       "      <td>...</td>\n",
       "    </tr>\n",
       "    <tr>\n",
       "      <th>794</th>\n",
       "      <td>20170405-160310-0.jpg</td>\n",
       "      <td>[[[124, 112, 121], [34, 23, 31], [20, 15, 21],...</td>\n",
       "      <td>8</td>\n",
       "      <td>Negative</td>\n",
       "    </tr>\n",
       "    <tr>\n",
       "      <th>795</th>\n",
       "      <td>20170126-095436-0.jpg</td>\n",
       "      <td>[[[100, 101, 106], [184, 189, 190], [74, 89, 8...</td>\n",
       "      <td>1</td>\n",
       "      <td>Lantana</td>\n",
       "    </tr>\n",
       "    <tr>\n",
       "      <th>796</th>\n",
       "      <td>20170304-131712-0.jpg</td>\n",
       "      <td>[[[150, 144, 156], [52, 44, 56], [220, 214, 22...</td>\n",
       "      <td>7</td>\n",
       "      <td>Snake weed</td>\n",
       "    </tr>\n",
       "    <tr>\n",
       "      <th>797</th>\n",
       "      <td>20170210-131153-0.jpg</td>\n",
       "      <td>[[[164, 159, 157], [134, 129, 132], [93, 90, 1...</td>\n",
       "      <td>7</td>\n",
       "      <td>Snake weed</td>\n",
       "    </tr>\n",
       "    <tr>\n",
       "      <th>798</th>\n",
       "      <td>20170315-090434-0.jpg</td>\n",
       "      <td>[[[78, 57, 74], [97, 76, 93], [188, 174, 187],...</td>\n",
       "      <td>8</td>\n",
       "      <td>Negative</td>\n",
       "    </tr>\n",
       "  </tbody>\n",
       "</table>\n",
       "<p>799 rows × 4 columns</p>\n",
       "</div>"
      ],
      "text/plain": [
       "                  Filename                                             images  \\\n",
       "0    20170210-130942-0.jpg  [[[108, 92, 102], [148, 133, 146], [69, 56, 72...   \n",
       "1    20170217-103031-0.jpg  [[[23, 19, 18], [28, 27, 25], [48, 48, 46], [4...   \n",
       "2    20170210-132021-0.jpg  [[[103, 97, 132], [185, 170, 206], [123, 97, 1...   \n",
       "3    20170130-102032-0.jpg  [[[43, 71, 42], [59, 80, 64], [49, 62, 58], [4...   \n",
       "4    20170704-154648-0.jpg  [[[111, 111, 134], [103, 104, 123], [103, 106,...   \n",
       "..                     ...                                                ...   \n",
       "794  20170405-160310-0.jpg  [[[124, 112, 121], [34, 23, 31], [20, 15, 21],...   \n",
       "795  20170126-095436-0.jpg  [[[100, 101, 106], [184, 189, 190], [74, 89, 8...   \n",
       "796  20170304-131712-0.jpg  [[[150, 144, 156], [52, 44, 56], [220, 214, 22...   \n",
       "797  20170210-131153-0.jpg  [[[164, 159, 157], [134, 129, 132], [93, 90, 1...   \n",
       "798  20170315-090434-0.jpg  [[[78, 57, 74], [97, 76, 93], [188, 174, 187],...   \n",
       "\n",
       "     Label       Species  \n",
       "0        7    Snake weed  \n",
       "1        0  Chinee apple  \n",
       "2        7    Snake weed  \n",
       "3        1       Lantana  \n",
       "4        7    Snake weed  \n",
       "..     ...           ...  \n",
       "794      8      Negative  \n",
       "795      1       Lantana  \n",
       "796      7    Snake weed  \n",
       "797      7    Snake weed  \n",
       "798      8      Negative  \n",
       "\n",
       "[799 rows x 4 columns]"
      ]
     },
     "execution_count": 4,
     "metadata": {},
     "output_type": "execute_result"
    }
   ],
   "source": [
    "# Add category data\n",
    "# Import CSV file\n",
    "df_label = pd.read_csv(\"labels.csv\")\n",
    "df_assets= df_assets.merge(df_label, how='left', left_on=\"Filename\", right_on=\"Filename\")\n",
    "df_assets"
   ]
  },
  {
   "cell_type": "code",
   "execution_count": 5,
   "metadata": {
    "collapsed": false,
    "jupyter": {
     "outputs_hidden": false
    },
    "pycharm": {
     "name": "#%%\n"
    }
   },
   "outputs": [
    {
     "data": {
      "text/plain": [
       "Species       Label\n",
       "Chinee apple  0        234\n",
       "Lantana       1        160\n",
       "Negative      8        145\n",
       "Snake weed    7        260\n",
       "dtype: int64"
      ]
     },
     "execution_count": 5,
     "metadata": {},
     "output_type": "execute_result"
    }
   ],
   "source": [
    "# Quick breakdown of the categories of images\n",
    "df_assets.groupby([\"Species\",\"Label\"]).size()"
   ]
  },
  {
   "cell_type": "code",
   "execution_count": 6,
   "metadata": {
    "collapsed": false,
    "jupyter": {
     "outputs_hidden": false
    },
    "pycharm": {
     "name": "#%%\n"
    }
   },
   "outputs": [
    {
     "data": {
      "text/plain": [
       "(639, 4)"
      ]
     },
     "execution_count": 6,
     "metadata": {},
     "output_type": "execute_result"
    }
   ],
   "source": [
    "#Split the dataframe into two random samples (80% and 20%) for training and testing\n",
    "train, test = train_test_split(df_assets, test_size=0.2)\n",
    "train.shape"
   ]
  },
  {
   "cell_type": "markdown",
   "metadata": {
    "pycharm": {
     "name": "#%% md\n"
    }
   },
   "source": [
    "## Steps are:\n",
    "\n",
    "# Build the model,\n",
    "1. Compile the model,\n",
    "2. Train / fit the data to the model,\n",
    "3. Evaluate the model on the testing set,"
   ]
  },
  {
   "cell_type": "code",
   "execution_count": 7,
   "metadata": {
    "collapsed": false,
    "jupyter": {
     "outputs_hidden": false
    },
    "pycharm": {
     "name": "#%%\n"
    }
   },
   "outputs": [
    {
     "name": "stderr",
     "output_type": "stream",
     "text": [
      "2022-09-07 20:30:11.534770: E tensorflow/stream_executor/cuda/cuda_driver.cc:271] failed call to cuInit: CUDA_ERROR_NO_DEVICE: no CUDA-capable device is detected\n",
      "2022-09-07 20:30:11.534816: I tensorflow/stream_executor/cuda/cuda_diagnostics.cc:156] kernel driver does not appear to be running on this host (ip-172-16-48-215.ap-southeast-2.compute.internal): /proc/driver/nvidia/version does not exist\n",
      "2022-09-07 20:30:11.536140: I tensorflow/core/platform/cpu_feature_guard.cc:151] This TensorFlow binary is optimized with oneAPI Deep Neural Network Library (oneDNN) to use the following CPU instructions in performance-critical operations:  AVX2 AVX512F FMA\n",
      "To enable them in other operations, rebuild TensorFlow with the appropriate compiler flags.\n"
     ]
    }
   ],
   "source": [
    "\n",
    "import os\n",
    "os.environ['CUDA_VISIBLE_DEVICES'] = \"0\"\n",
    "\n",
    "import tensorflow as tf\n",
    "model = tf.keras.Sequential([\n",
    "    tf.keras.layers.Conv2D(32, (3, 3),data_format=\"channels_last\", activation = 'relu', input_shape = (150, 150, 3)),\n",
    "    tf.keras.layers.MaxPooling2D(2,2,data_format=\"channels_last\"),\n",
    "    tf.keras.layers.Conv2D(32, (3, 3),data_format=\"channels_last\", activation = 'relu'),\n",
    "    tf.keras.layers.MaxPooling2D(2,2,data_format=\"channels_last\"),\n",
    "    tf.keras.layers.Flatten(),\n",
    "    tf.keras.layers.Dense(128, activation=tf.nn.relu),\n",
    "    tf.keras.layers.Dense(9, activation=tf.nn.softmax)\n",
    "])"
   ]
  },
  {
   "cell_type": "code",
   "execution_count": 8,
   "metadata": {
    "collapsed": false,
    "jupyter": {
     "outputs_hidden": false
    },
    "pycharm": {
     "name": "#%%\n"
    }
   },
   "outputs": [],
   "source": [
    "model.compile(optimizer = 'adam', loss = 'sparse_categorical_crossentropy', metrics=['accuracy'])"
   ]
  },
  {
   "cell_type": "code",
   "execution_count": 9,
   "metadata": {
    "collapsed": false,
    "jupyter": {
     "outputs_hidden": false
    },
    "pycharm": {
     "name": "#%%\n"
    }
   },
   "outputs": [
    {
     "name": "stderr",
     "output_type": "stream",
     "text": [
      "2022-09-07 20:30:13.054660: W tensorflow/core/framework/cpu_allocator_impl.cc:82] Allocation of 137970000 exceeds 10% of free system memory.\n"
     ]
    },
    {
     "name": "stdout",
     "output_type": "stream",
     "text": [
      "Epoch 1/20\n"
     ]
    },
    {
     "name": "stderr",
     "output_type": "stream",
     "text": [
      "2022-09-07 20:30:17.960431: W tensorflow/core/framework/cpu_allocator_impl.cc:82] Allocation of 358875136 exceeds 10% of free system memory.\n",
      "2022-09-07 20:30:19.900781: W tensorflow/core/framework/cpu_allocator_impl.cc:82] Allocation of 89718784 exceeds 10% of free system memory.\n",
      "2022-09-07 20:30:20.013108: W tensorflow/core/framework/cpu_allocator_impl.cc:82] Allocation of 84934656 exceeds 10% of free system memory.\n",
      "2022-09-07 20:30:21.373547: W tensorflow/core/framework/cpu_allocator_impl.cc:82] Allocation of 42467328 exceeds 10% of free system memory.\n"
     ]
    },
    {
     "name": "stdout",
     "output_type": "stream",
     "text": [
      "4/4 [==============================] - 19s 3s/step - loss: 891.9708 - accuracy: 0.2427 - val_loss: 861.8284 - val_accuracy: 0.1719\n",
      "Epoch 2/20\n",
      "4/4 [==============================] - 13s 3s/step - loss: 401.9144 - accuracy: 0.2877 - val_loss: 130.0115 - val_accuracy: 0.3047\n",
      "Epoch 3/20\n",
      "4/4 [==============================] - 13s 3s/step - loss: 68.8148 - accuracy: 0.2935 - val_loss: 9.4906 - val_accuracy: 0.3438\n",
      "Epoch 4/20\n",
      "4/4 [==============================] - 13s 3s/step - loss: 3.9483 - accuracy: 0.3836 - val_loss: 2.0650 - val_accuracy: 0.3672\n",
      "Epoch 5/20\n",
      "4/4 [==============================] - 14s 3s/step - loss: 1.1787 - accuracy: 0.6184 - val_loss: 2.2444 - val_accuracy: 0.2969\n",
      "Epoch 6/20\n",
      "4/4 [==============================] - 12s 3s/step - loss: 0.9997 - accuracy: 0.6497 - val_loss: 1.9112 - val_accuracy: 0.3672\n",
      "Epoch 7/20\n",
      "4/4 [==============================] - 13s 3s/step - loss: 0.6399 - accuracy: 0.8395 - val_loss: 2.2797 - val_accuracy: 0.3359\n",
      "Epoch 8/20\n",
      "4/4 [==============================] - 13s 3s/step - loss: 0.3076 - accuracy: 0.9022 - val_loss: 3.5115 - val_accuracy: 0.3750\n",
      "Epoch 9/20\n",
      "4/4 [==============================] - 13s 3s/step - loss: 0.0680 - accuracy: 0.9824 - val_loss: 2.9808 - val_accuracy: 0.3203\n",
      "Epoch 10/20\n",
      "4/4 [==============================] - 12s 3s/step - loss: 0.0334 - accuracy: 0.9961 - val_loss: 4.7005 - val_accuracy: 0.3359\n",
      "Epoch 11/20\n",
      "4/4 [==============================] - 12s 3s/step - loss: 0.0513 - accuracy: 0.9902 - val_loss: 4.0533 - val_accuracy: 0.2812\n",
      "Epoch 12/20\n",
      "4/4 [==============================] - 12s 3s/step - loss: 0.0203 - accuracy: 0.9961 - val_loss: 3.4927 - val_accuracy: 0.3125\n",
      "Epoch 13/20\n",
      "4/4 [==============================] - 13s 3s/step - loss: 0.0063 - accuracy: 1.0000 - val_loss: 4.7883 - val_accuracy: 0.3359\n",
      "Epoch 14/20\n",
      "4/4 [==============================] - 12s 3s/step - loss: 0.0122 - accuracy: 0.9980 - val_loss: 4.3954 - val_accuracy: 0.3750\n",
      "Epoch 15/20\n",
      "4/4 [==============================] - 12s 3s/step - loss: 0.0032 - accuracy: 1.0000 - val_loss: 4.1968 - val_accuracy: 0.3359\n",
      "Epoch 16/20\n",
      "4/4 [==============================] - 13s 3s/step - loss: 0.0028 - accuracy: 1.0000 - val_loss: 4.5026 - val_accuracy: 0.3438\n",
      "Epoch 17/20\n",
      "4/4 [==============================] - 12s 3s/step - loss: 0.0018 - accuracy: 1.0000 - val_loss: 4.5985 - val_accuracy: 0.3125\n",
      "Epoch 18/20\n",
      "4/4 [==============================] - 13s 3s/step - loss: 9.2013e-04 - accuracy: 1.0000 - val_loss: 4.6412 - val_accuracy: 0.3047\n",
      "Epoch 19/20\n",
      "4/4 [==============================] - 14s 4s/step - loss: 4.7053e-04 - accuracy: 1.0000 - val_loss: 4.7639 - val_accuracy: 0.3125\n",
      "Epoch 20/20\n",
      "4/4 [==============================] - 12s 3s/step - loss: 3.0679e-04 - accuracy: 1.0000 - val_loss: 4.9323 - val_accuracy: 0.3203\n"
     ]
    }
   ],
   "source": [
    "images=np.array(list(train.loc[:,\"images\"]), dtype = 'float32')\n",
    "labels = np.array(list(train.loc[:,\"Label\"]), dtype = 'int32')\n",
    "\n",
    "model_fit = model.fit(images,labels , batch_size=128, epochs=20, validation_split = 0.2)"
   ]
  },
  {
   "cell_type": "code",
   "execution_count": 10,
   "metadata": {
    "collapsed": false,
    "jupyter": {
     "outputs_hidden": false
    },
    "pycharm": {
     "name": "#%%\n"
    }
   },
   "outputs": [
    {
     "data": {
      "image/png": "[encoded data removed]",
      "text/plain": [
       "<Figure size 720x360 with 2 Axes>"
      ]
     },
     "metadata": {},
     "output_type": "display_data"
    }
   ],
   "source": [
    "def plot_accuracy_loss(history):\n",
    "    \"\"\"\n",
    "        Plot the accuracy and the loss during the training of the nn.\n",
    "    \"\"\"\n",
    "    fig = plt.figure(figsize=(10,5))\n",
    "\n",
    "    # Plot accuracy\n",
    "    plt.subplot(221)\n",
    "    plt.plot(history.history['accuracy'],'bo--', label = \"acc\")\n",
    "    plt.plot(history.history['val_accuracy'], 'ro--', label = \"val_acc\")\n",
    "    plt.title(\"train_acc vs val_acc\")\n",
    "    plt.ylabel(\"accuracy\")\n",
    "    plt.xlabel(\"epochs\")\n",
    "    plt.legend()\n",
    "\n",
    "    # Plot loss function\n",
    "    plt.subplot(222)\n",
    "    plt.plot(history.history['loss'],'bo--', label = \"loss\")\n",
    "    plt.plot(history.history['val_loss'], 'ro--', label = \"val_loss\")\n",
    "    plt.title(\"train_loss vs val_loss\")\n",
    "    plt.ylabel(\"loss\")\n",
    "    plt.xlabel(\"epochs\")\n",
    "\n",
    "    plt.legend()\n",
    "    plt.show()\n",
    "plot_accuracy_loss(model_fit)"
   ]
  },
  {
   "cell_type": "markdown",
   "metadata": {
    "pycharm": {
     "name": "#%% md\n"
    }
   },
   "source": [
    "# Steps to do:\n",
    "1. Run the model against the test data (continue with https://www.kaggle.com/code/vincee/intel-image-classification-cnn-keras/notebook)\n",
    "2. Confuision Matrix (measure of fit) (see https://www.w3schools.com/python/python_ml_confusion_matrix.asp)\n",
    "3. Display results"
   ]
  }
 ],
 "metadata": {
  "kernelspec": {
   "display_name": "conda_tensorflow2_p38",
   "language": "python",
   "name": "conda_tensorflow2_p38"
  },
  "language_info": {
   "codemirror_mode": {
    "name": "ipython",
    "version": 3
   },
   "file_extension": ".py",
   "mimetype": "text/x-python",
   "name": "python",
   "nbconvert_exporter": "python",
   "pygments_lexer": "ipython3",
   "version": "3.8.12"
  }
 },
 "nbformat": 4,
 "nbformat_minor": 4
}
